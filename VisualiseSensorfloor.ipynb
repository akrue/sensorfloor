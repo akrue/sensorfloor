{
 "cells": [
  {
   "cell_type": "markdown",
   "metadata": {},
   "source": [
    "This file reads a processed csv file and starts the animation/visualisation of the sensorfloor data for each sensor+direction:\n",
    "\n",
    "* acceleration x,y,z\n",
    "* gyroscope x,y,z\n",
    "* magnetometer x,y,z\n",
    "\n",
    "All animations can be executed at the same time (but this slows down the animation)\n",
    "\n",
    "TO DO:\n",
    "\n",
    "* plot vicon position within the animation\n",
    "* add technical MIN and MAX values to colorbar\n",
    "\n",
    "!SAVING TAKES WAY TOO LONG (since the animation is too long)\n",
    "\n",
    "If you want to save the animation as a video file, to a screen capture"
   ]
  },
  {
   "cell_type": "code",
   "execution_count": null,
   "metadata": {},
   "outputs": [],
   "source": [
    "\n",
    "import numpy as np\n",
    "import pandas as pd\n",
    "import matplotlib\n",
    "import matplotlib.pyplot as plt\n",
    "import matplotlib.animation as animation\n",
    "from matplotlib.animation import FuncAnimation"
   ]
  },
  {
   "cell_type": "code",
   "execution_count": null,
   "metadata": {},
   "outputs": [],
   "source": [
    "# Read Data\n",
    "s = 'Data_aswin_processed.csv'\n",
    "Data = pd.read_csv(s)"
   ]
  },
  {
   "cell_type": "code",
   "execution_count": null,
   "metadata": {},
   "outputs": [],
   "source": [
    "#Just to be sure, that the data is sorted\n",
    "Data = Data.sort_values(by = 'timestamp')\n",
    "Data = Data.reset_index()"
   ]
  },
  {
   "cell_type": "code",
   "execution_count": null,
   "metadata": {},
   "outputs": [],
   "source": [
    "# Class for animation objects\n",
    "\n",
    "# plot in a new window, not within the notebook\n",
    "%matplotlib qt \n",
    "class AnimatedScatter(object):\n",
    "    \"\"\"An animated scatter plot for visualisation of the sensorfloor data.\"\"\"\n",
    "    def __init__(self, Data, sensor):\n",
    "        #Dataframe of sensordata\n",
    "        self.data = Data\n",
    "        #df contains the last measurement, that was added to the plot\n",
    "        self.df = self.setup_sensorfloor()\n",
    "        #which sensor to be plotted (ax,ay,az,gx,gy,gz,mx,my,mz)\n",
    "        self.sensor = sensor\n",
    "        #get min and max value for the colorbar\n",
    "        self.min = self.data[self.sensor].min()\n",
    "        self.max = self.data[self.sensor].max()\n",
    "        # Setup the figure and axes...\n",
    "        self.fig, [self.ax, self.cax] = plt.subplots(1,2,figsize=(4, 4),gridspec_kw={\"width_ratios\":[50,1]})\n",
    "        cmap = matplotlib.cm.jet\n",
    "        norm = matplotlib.colors.Normalize(vmin=self.min, vmax=self.max)\n",
    "\n",
    "        cb1 = matplotlib.colorbar.ColorbarBase(self.cax, cmap=cmap,\n",
    "                                norm=norm,\n",
    "                                orientation='vertical')\n",
    "        # Then setup FuncAnimation.\n",
    "        self.ani = animation.FuncAnimation(self.fig, self.update, interval=0.1, frames = len(self.data), repeat = False, \n",
    "                                          init_func=self.setup_plot, blit=True)\n",
    "    def toIndex(self,node_id, strip_id):\n",
    "        '''Takes node_id and strip_id and returns the corresponding index of this node'''\n",
    "        i = (node_id - 2) + (strip_id-2)*14\n",
    "        return i\n",
    "    \n",
    "    def setup_sensorfloor(self):\n",
    "        '''Initialize Dataframe for the last measurment to be added to the animation.'''\n",
    "        positions = [[i,j] for i in range(2,16) for j in range(2,24)]\n",
    "        positions = np.reshape(positions, (len(positions),2))\n",
    "        sensorfloor = pd.DataFrame(columns =['node_id', 'strip_id', 'color'])\n",
    "        sensorfloor['node_id'] = positions[:,0]\n",
    "        sensorfloor['strip_id'] = positions[:,1]\n",
    "        sensorfloor['color'] = np.zeros(len(sensorfloor))\n",
    "        return sensorfloor\n",
    "        \n",
    "    def setup_plot(self):\n",
    "        \"\"\"Initial drawing of the scatter plot.\"\"\"\n",
    "        x = self.df['node_id']\n",
    "        y = self.df['strip_id']\n",
    "        c = self.df['color']\n",
    "        self.scat = self.ax.scatter(x, y, c=c, s= 200,vmin = self.min, vmax = self.max, marker = 's',\n",
    "                                    cmap=\"jet\")\n",
    "        self.ax.set_xlabel('node_id')\n",
    "        self.ax.set_ylabel('strip_id')\n",
    "        self.ax.set(xlim=(1, 16), ylim=(1, 25))\n",
    "        self.cax.set_title(self.sensor)\n",
    "        self.title = self.ax.text(0.5,0.95, \"\", bbox={'facecolor':'w', 'alpha':0.5, 'pad':5},\n",
    "                 transform=self.ax.transAxes, ha=\"center\")\n",
    "        # For FuncAnimation's sake, we need to return the artist we'll be using\n",
    "        # Note that it expects a sequence of artists, thus the trailing comma.\n",
    "        #self.ax.clear() #setup_plot will be called 2 times!\n",
    "        return self.scat, self.title,\n",
    "\n",
    "\n",
    "    def update(self, i):\n",
    "        \"\"\"Update the scatter plot.\"\"\"\n",
    "        #Get next datapoint\n",
    "        tmp = self.data.iloc[i]\n",
    "        #update data\n",
    "        self.df.loc[self.toIndex(tmp['node_id'], tmp['strip_id']), 'color'] = tmp[self.sensor]\n",
    "        # Set color\n",
    "        self.scat.set_array(self.df['color'])\n",
    "        self.title.set_text(' Timestamp: '+tmp.loc['timestamp'])\n",
    "        #return series of updated scatterplots and titles\n",
    "        return self.scat, self.title,\n",
    "    \n",
    "    def saveAnimatedScatter(self, fps = 15):\n",
    "        '''Saves the animation to a mp4 file.'''\n",
    "        Writer = animation.FFMpegWriter(fps)\n",
    "        self.ani.save('test.mp4', writer = Writer)\n",
    "\n",
    "\n"
   ]
  },
  {
   "cell_type": "code",
   "execution_count": null,
   "metadata": {},
   "outputs": [],
   "source": [
    "mx = AnimatedScatter(Data,'mx')\n",
    "#mz = AnimatedScatter(Data,'mz')\n",
    "#my = AnimatedScatter(Data,'my')\n",
    "#ax = AnimatedScatter(Data,'ax')\n",
    "#az = AnimatedScatter(Data,'az')\n",
    "#ay = AnimatedScatter(Data,'ay')\n",
    "#gx = AnimatedScatter(Data,'gx')\n",
    "#gz = AnimatedScatter(Data,'gz')\n",
    "#gy = AnimatedScatter(Data,'gy')\n",
    "plt.show()\n",
    "#a.saveAnimatedScatter()"
   ]
  },
  {
   "cell_type": "code",
   "execution_count": null,
   "metadata": {},
   "outputs": [],
   "source": []
  }
 ],
 "metadata": {
  "@webio": {
   "lastCommId": null,
   "lastKernelId": null
  },
  "kernelspec": {
   "display_name": "Python 3",
   "language": "python",
   "name": "python3"
  },
  "language_info": {
   "codemirror_mode": {
    "name": "ipython",
    "version": 3
   },
   "file_extension": ".py",
   "mimetype": "text/x-python",
   "name": "python",
   "nbconvert_exporter": "python",
   "pygments_lexer": "ipython3",
   "version": "3.7.4"
  }
 },
 "nbformat": 4,
 "nbformat_minor": 2
}

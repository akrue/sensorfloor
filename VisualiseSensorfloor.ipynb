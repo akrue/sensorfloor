{
 "cells": [
  {
   "cell_type": "markdown",
   "metadata": {},
   "source": [
    "This file reads a processed csv file and starts the animation/visualisation of the sensorfloor data for each sensor+direction:\n",
    "\n",
    "* acceleration x,y,z\n",
    "* gyroscope x,y,z\n",
    "* magnetometer x,y,z\n",
    "\n",
    "All animations can be executed at the same time (but this slows down the animation)\n",
    "\n",
    "TO DO:\n",
    "\n",
    "* plot vicon position within the animation\n",
    "* add technical MIN and MAX values to colorbar\n",
    "\n",
    "!SAVING TAKES WAY TOO LONG (since the animation is too long)\n",
    "\n",
    "If you want to save the animation as a video file, to a screen capture"
   ]
  },
  {
   "cell_type": "code",
   "execution_count": 1,
   "metadata": {},
   "outputs": [],
   "source": [
    "\n",
    "import numpy as np\n",
    "import pandas as pd\n",
    "import matplotlib\n",
    "import matplotlib.pyplot as plt\n",
    "import matplotlib.animation as animation\n",
    "from matplotlib.animation import FuncAnimation"
   ]
  },
  {
   "cell_type": "code",
   "execution_count": 2,
   "metadata": {},
   "outputs": [],
   "source": [
    "# Read Data\n",
    "s = 'test_data_rb1_mag_processed.csv'\n",
    "Data = pd.read_csv(s)\n",
    "Data = Data.drop(Data[((Data['node_id'] == 12) & (Data['strip_id'] == 7)) | ((Data['node_id'] == 10) & (Data['strip_id'] == 23))].index)"
   ]
  },
  {
   "cell_type": "code",
   "execution_count": 3,
   "metadata": {},
   "outputs": [],
   "source": [
    "#Just to be sure, that the data is sorted\n",
    "Data = Data.sort_values(by = 'timestamp')\n",
    "Data = Data.reset_index()"
   ]
  },
  {
   "cell_type": "code",
   "execution_count": null,
   "metadata": {
    "scrolled": true
   },
   "outputs": [],
   "source": []
  },
  {
   "cell_type": "code",
   "execution_count": null,
   "metadata": {},
   "outputs": [],
   "source": []
  },
  {
   "cell_type": "code",
   "execution_count": 6,
   "metadata": {},
   "outputs": [],
   "source": [
    "# currently there is a overflow fpr the magnetometer measurements\n",
    "def undoOverflow(x):\n",
    "    if (x > 4900):\n",
    "        return x - 65535\n",
    "    else:\n",
    "        return x"
   ]
  },
  {
   "cell_type": "code",
   "execution_count": null,
   "metadata": {},
   "outputs": [],
   "source": []
  },
  {
   "cell_type": "code",
   "execution_count": null,
   "metadata": {},
   "outputs": [],
   "source": []
  },
  {
   "cell_type": "code",
   "execution_count": 5,
   "metadata": {},
   "outputs": [],
   "source": [
    "Data['mz'] = Data['mz'].apply(undoOverflow)\n",
    "Data['my'] = Data['my'].apply(undoOverflow)\n",
    "Data['mx'] = Data['mx'].apply(undoOverflow)"
   ]
  },
  {
   "cell_type": "code",
   "execution_count": null,
   "metadata": {},
   "outputs": [],
   "source": []
  },
  {
   "cell_type": "code",
   "execution_count": 8,
   "metadata": {},
   "outputs": [],
   "source": [
    "# Class for animation objects\n",
    "\n",
    "# plot in a new window, not within the notebook\n",
    "%matplotlib qt \n",
    "class AnimatedScatter(object):\n",
    "    \"\"\"An animated scatter plot for visualisation of the sensorfloor data.\"\"\"\n",
    "    def __init__(self, Data, sensor):\n",
    "        #Dataframe of sensordata\n",
    "        self.data = Data\n",
    "        self.sensor = sensor\n",
    "        self.min = self.data[self.sensor].min()\n",
    "        self.max = self.data[self.sensor].max()\n",
    "        #df contains the last measurement, that was added to the plot\n",
    "        self.df = self.setup_sensorfloor()\n",
    "        #which sensor to be plotted (ax,ay,az,gx,gy,gz,mx,my,mz)\n",
    "\n",
    "        #get min and max value for the colorbar\n",
    "\n",
    "        #vicon coords of (1,2) = (strip, node)\n",
    "        self.xshift = 12.01446\n",
    "        self.yshift = - 4.4477\n",
    "        self.posx = 0\n",
    "        self.posy = 0\n",
    "        # Setup the figure and axes...\n",
    "        self.fig, [self.ax, self.cax] = plt.subplots(1,2,figsize=(4, 4),gridspec_kw={\"width_ratios\":[50,1]})\n",
    "        cmap = matplotlib.cm.coolwarm\n",
    "        norm = matplotlib.colors.Normalize(vmin=self.min, vmax=self.max)\n",
    "\n",
    "        cb1 = matplotlib.colorbar.ColorbarBase(self.cax, cmap=cmap,\n",
    "                                norm=norm,\n",
    "                                orientation='vertical')\n",
    "        # Then setup FuncAnimation.\n",
    "        self.ani = animation.FuncAnimation(self.fig, self.update, interval=5, frames = len(self.data), repeat = False, \n",
    "                                          init_func=self.setup_plot, blit=True)\n",
    "    def toIndex(self,node_id, strip_id):\n",
    "        '''Takes node_id and strip_id and returns the corresponding index of this node'''\n",
    "        i = (node_id - 2)*23 + (strip_id-1)\n",
    "        return i\n",
    "    \n",
    "    def setup_sensorfloor(self):\n",
    "        '''Initialize Dataframe for the last measurment to be added to the animation.'''\n",
    "        positions = [[i,j] for i in range(2,16) for j in range(1,24)]\n",
    "        positions = np.reshape(positions, (len(positions),2))\n",
    "        sensorfloor = pd.DataFrame(columns =['node_id', 'strip_id', 'color'])\n",
    "        sensorfloor['node_id'] = positions[:,0]\n",
    "        sensorfloor['strip_id'] = positions[:,1]\n",
    "        sensorfloor['color'] = np.zeros(len(sensorfloor)) + self.min\n",
    "        return sensorfloor\n",
    "        \n",
    "    def setup_plot(self):\n",
    "        \"\"\"Initial drawing of the scatter plot.\"\"\"\n",
    "        x = self.df['node_id']\n",
    "        y = self.df['strip_id']\n",
    "        c = self.df['color']\n",
    "        self.scat = self.ax.scatter(y, x, c=c, s= 200,vmin = self.min, vmax = self.max, marker = 's',\n",
    "                                    cmap=\"coolwarm\")\n",
    "        self.vicon = self.ax.scatter(self.posx, self.posy, marker = 'x', c = 'hotpink')\n",
    "        self.ax.set_ylabel('node_id')\n",
    "        self.ax.set_xlabel('strip_id')\n",
    "        self.ax.set(ylim=(1, 16), xlim=(0, 25))\n",
    "        self.cax.set_title(self.sensor)\n",
    "        self.title = self.ax.text(0.5,0.95, \"\", bbox={'facecolor':'w', 'alpha':0.5, 'pad':5},\n",
    "                 transform=self.ax.transAxes, ha=\"center\")\n",
    "        \n",
    "        # For FuncAnimation's sake, we need to return the artist we'll be using\n",
    "        # Note that it expects a sequence of artists, thus the trailing comma.\n",
    "        #self.ax.clear() #setup_plot will be called 2 times!\n",
    "        return self.scat, self.title, self.vicon,\n",
    "\n",
    "    def update(self, i):\n",
    "        \"\"\"Update the scatter plot.\"\"\"\n",
    "        #Get next datapoint\n",
    "        tmp = self.data.iloc[i]\n",
    "        #update data\n",
    "        self.df.loc[self.toIndex(tmp['node_id'], tmp['strip_id']), 'color'] = tmp[self.sensor]\n",
    "        self.posx = tmp['posX'] + self.xshift\n",
    "        self.posy = -(tmp['posY'] + self.yshift) #y is flipped in the plot\n",
    "        # Set color\n",
    "        self.scat.set_array(self.df['color'])\n",
    "        self.vicon.set_offsets([self.posx,self.posy])\n",
    "        #self.pos.set_array = [self.posx,self.posy]\n",
    "        self.title.set_text(' Timestamp: '+tmp.loc['timestamp'])\n",
    "        #return series of updated scatterplots and titles\n",
    "        return self.scat, self.title, self.vicon, \n",
    "\n",
    "    def saveAnimatedScatter(self, fps = 15):\n",
    "        '''Saves the animation to a mp4 file.'''\n",
    "        Writer = animation.FFMpegWriter(fps)\n",
    "        self.ani.save('test.mp4', writer = Writer)\n",
    "\n",
    "\n"
   ]
  },
  {
   "cell_type": "code",
   "execution_count": 103,
   "metadata": {},
   "outputs": [],
   "source": []
  },
  {
   "cell_type": "code",
   "execution_count": 104,
   "metadata": {},
   "outputs": [],
   "source": []
  },
  {
   "cell_type": "code",
   "execution_count": 105,
   "metadata": {},
   "outputs": [],
   "source": []
  },
  {
   "cell_type": "code",
   "execution_count": null,
   "metadata": {},
   "outputs": [],
   "source": []
  },
  {
   "cell_type": "code",
   "execution_count": null,
   "metadata": {},
   "outputs": [],
   "source": []
  },
  {
   "cell_type": "code",
   "execution_count": null,
   "metadata": {},
   "outputs": [],
   "source": []
  },
  {
   "cell_type": "code",
   "execution_count": null,
   "metadata": {},
   "outputs": [],
   "source": []
  },
  {
   "cell_type": "code",
   "execution_count": 137,
   "metadata": {},
   "outputs": [],
   "source": [
    "Data['weighted'] = Data[['mx','my','mz']].min(axis = 1)"
   ]
  },
  {
   "cell_type": "code",
   "execution_count": 8,
   "metadata": {},
   "outputs": [
    {
     "data": {
      "text/plain": [
       "array([14, 18, 23,  3, 19,  8,  4,  5, 12, 11, 15, 13, 16, 21,  9, 17,  6,\n",
       "        7,  1, 22,  2, 10, 20], dtype=int64)"
      ]
     },
     "execution_count": 8,
     "metadata": {},
     "output_type": "execute_result"
    }
   ],
   "source": [
    "Data['strip_id'].unique()"
   ]
  },
  {
   "cell_type": "code",
   "execution_count": 9,
   "metadata": {},
   "outputs": [],
   "source": [
    "#mx = AnimatedScatter(Data,'mx')\n",
    "#mz = AnimatedScatter(Data,'mz')\n",
    "#my = AnimatedScatter(Data,'my')\n",
    "#az = AnimatedScatter(Data,'az')\n",
    "#ay = AnimatedScatter(Data,'ay')\n",
    "#gx = AnimatedScatter(Data,'gx')\n",
    "#gz = AnimatedScatter(Data,'gz')\n",
    "#gy = AnimatedScatter(Data,'gy')\n",
    "plt.show()\n",
    "#a.saveAnimatedScatter()"
   ]
  },
  {
   "cell_type": "code",
   "execution_count": null,
   "metadata": {},
   "outputs": [],
   "source": []
  },
  {
   "cell_type": "code",
   "execution_count": 10,
   "metadata": {},
   "outputs": [],
   "source": [
    "# Read Data\n",
    "s = 'baseline_calib_processed.csv'\n",
    "Data_base = pd.read_csv(s)"
   ]
  },
  {
   "cell_type": "code",
   "execution_count": 11,
   "metadata": {},
   "outputs": [],
   "source": [
    "Data_base = Data_base.drop_duplicates(subset = ['ax', 'ay', 'az', 'gx', 'gy', 'gz', 'mx', 'my', 'mz'])"
   ]
  },
  {
   "cell_type": "code",
   "execution_count": null,
   "metadata": {},
   "outputs": [],
   "source": [
    "Data_base.hist()"
   ]
  },
  {
   "cell_type": "code",
   "execution_count": null,
   "metadata": {},
   "outputs": [],
   "source": []
  },
  {
   "cell_type": "code",
   "execution_count": null,
   "metadata": {},
   "outputs": [],
   "source": []
  },
  {
   "cell_type": "code",
   "execution_count": null,
   "metadata": {},
   "outputs": [],
   "source": []
  },
  {
   "cell_type": "code",
   "execution_count": 40,
   "metadata": {},
   "outputs": [],
   "source": []
  },
  {
   "cell_type": "code",
   "execution_count": 41,
   "metadata": {},
   "outputs": [],
   "source": []
  },
  {
   "cell_type": "code",
   "execution_count": null,
   "metadata": {},
   "outputs": [],
   "source": []
  },
  {
   "cell_type": "code",
   "execution_count": null,
   "metadata": {},
   "outputs": [],
   "source": []
  },
  {
   "cell_type": "code",
   "execution_count": null,
   "metadata": {},
   "outputs": [],
   "source": []
  }
 ],
 "metadata": {
  "@webio": {
   "lastCommId": null,
   "lastKernelId": null
  },
  "kernelspec": {
   "display_name": "Python 3",
   "language": "python",
   "name": "python3"
  },
  "language_info": {
   "codemirror_mode": {
    "name": "ipython",
    "version": 3
   },
   "file_extension": ".py",
   "mimetype": "text/x-python",
   "name": "python",
   "nbconvert_exporter": "python",
   "pygments_lexer": "ipython3",
   "version": "3.7.4"
  }
 },
 "nbformat": 4,
 "nbformat_minor": 2
}

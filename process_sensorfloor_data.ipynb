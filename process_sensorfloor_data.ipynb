{
 "cells": [
  {
   "cell_type": "markdown",
   "metadata": {},
   "source": [
    "Takes recorded list of json files and turn them into a dataframe\n",
    "\n",
    "TO DO\n",
    "* try dictionary instead of dataframe, since adding rows to a dataframe is not very efficient"
   ]
  },
  {
   "cell_type": "code",
   "execution_count": null,
   "metadata": {},
   "outputs": [],
   "source": [
    "import json\n",
    "import numpy as np\n",
    "import pandas as pd\n",
    "import matplotlib.pyplot as plt\n",
    "import time as TIME, sys\n",
    "from IPython.display import clear_output\n",
    "import bisect"
   ]
  },
  {
   "cell_type": "code",
   "execution_count": null,
   "metadata": {},
   "outputs": [],
   "source": [
    "#Progess bar function\n",
    "def update_progress(progress):\n",
    "    bar_length = 20\n",
    "    if isinstance(progress, int):\n",
    "        progress = float(progress)\n",
    "    if not isinstance(progress, float):\n",
    "        progress = 0\n",
    "    if progress < 0:\n",
    "        progress = 0\n",
    "    if progress >= 1:\n",
    "        progress = 1\n",
    "\n",
    "    block = int(round(bar_length * progress))\n",
    "\n",
    "    clear_output(wait = True)\n",
    "    text = \"Progress: [{0}] {1:.1f}%\".format( \"#\" * block + \"-\" * (bar_length - block), progress * 100)\n",
    "    print(text)"
   ]
  },
  {
   "cell_type": "code",
   "execution_count": null,
   "metadata": {},
   "outputs": [],
   "source": [
    "# Read Sensorfloor data\n",
    "sm = 'test_data_rb1_no_mag' # Sensorfloor raw file\n",
    "vm = 'vicon_data_rb1_no_mag' # Vicon data\n",
    "measurements = []\n",
    "for line in open(sm +'.txt', 'r'):\n",
    "    measurements.append(json.loads(line))\n",
    "# Read vicon data\n",
    "vicon = []\n",
    "for line in open(vm + '.txt', 'r'):\n",
    "    vicon.append(json.loads(line))"
   ]
  },
  {
   "cell_type": "code",
   "execution_count": null,
   "metadata": {},
   "outputs": [],
   "source": [
    "# Put data into a dataframe\n",
    "df_data = pd.DataFrame(measurements)\n",
    "df_vicon = pd.DataFrame(vicon)\n",
    "\n",
    "df_data['timestamp'] = pd.to_datetime(df_data['timestamp'], unit = 's')\n",
    "df_vicon['timestamp'] = pd.to_datetime(df_vicon['time'], unit = 's')\n",
    "del df_vicon['time']\n",
    "\n",
    "# sort values by timestamp\n",
    "df_data = df_data.sort_values(by = 'timestamp',axis=0, kind ='mergesort')\n",
    "df_data = df_data.reset_index(drop = True)\n",
    "df_vicon = df_vicon.sort_values(by = 'timestamp',axis=0, kind ='mergesort')\n",
    "df_vicon = df_vicon.reset_index(drop = True)"
   ]
  },
  {
   "cell_type": "code",
   "execution_count": null,
   "metadata": {},
   "outputs": [],
   "source": [
    "def set_strip_id(id):\n",
    "    '''Returns strip_id'''\n",
    "    switcher = {\n",
    "        \"b8:27:eb:41:99:a0\" : 1,\n",
    "        \"b8:27:eb:c0:fd:6a\" : 2,\n",
    "        \"b8:27:eb:18:92:c7\" : 3,\n",
    "        \"b8:27:eb:53:f2:33\" : 4,\n",
    "        \"b8:27:eb:e7:6f:dc\" : 5,\n",
    "        \"b8:27:eb:38:4b:07\" : 6,\n",
    "        \"b8:27:eb:1b:cf:26\" : 7,\n",
    "        \"b8:27:eb:6d:0e:53\" : 8,\n",
    "        \"b8:27:eb:b7:a3:b7\" : 9,\n",
    "        \"b8:27:eb:be:dc:32\" : 10,\n",
    "        \"b8:27:eb:ff:a4:48\" : 11,\n",
    "        \"b8:27:eb:a9:7d:4d\" : 12,\n",
    "        \"b8:27:eb:c4:f8:c7\" : 13,\n",
    "        \"b8:27:eb:e4:43:6d\" : 14,\n",
    "        \"b8:27:eb:98:69:6e\" : 15,\n",
    "        \"b8:27:eb:75:c7:a2\" : 16,\n",
    "        \"b8:27:eb:09:3d:77\" : 17,\n",
    "        \"b8:27:eb:05:d8:4d\" : 18,\n",
    "        \"b8:27:eb:36:da:22\" : 19,\n",
    "        \"b8:27:eb:f5:5d:04\" : 20,\n",
    "        \"b8:27:eb:88:8d:56\" : 21,\n",
    "        \"b8:27:eb:00:be:93\" : 22,\n",
    "        \"b8:27:eb:c0:10:ae\" : 23,\n",
    "        }\n",
    "    return switcher.get(id)"
   ]
  },
  {
   "cell_type": "code",
   "execution_count": null,
   "metadata": {},
   "outputs": [],
   "source": [
    "df_data['strip_id'] = df_data['strip_id'].apply(lambda x : set_strip_id(x))\n",
    "df_data['node_id'] = df_data['node_id'].astype('int')"
   ]
  },
  {
   "cell_type": "code",
   "execution_count": null,
   "metadata": {},
   "outputs": [],
   "source": [
    "# Get list of unique node_ids and strip_ids\n",
    "nodes = df_data['node_id'].unique()\n",
    "strips = df_data['strip_id'].unique()"
   ]
  },
  {
   "cell_type": "code",
   "execution_count": null,
   "metadata": {},
   "outputs": [],
   "source": [
    "df_start_times = pd.DataFrame(columns =['node_id','strip_id','starttime', 'row_index'])\n",
    "for n in nodes:\n",
    "    for s in strips:\n",
    "        try:\n",
    "            #get first recording time for each node\n",
    "            tmin = df_data[(df_data['node_id'] == n) & (df_data['strip_id'] == s)]['timestamp'].min()\n",
    "            imin = df_data[(df_data['node_id'] == n) & (df_data['strip_id'] == s)]['timestamp'].idxmin()\n",
    "            df_start_times = df_start_times.append(pd.Series([n, s, tmin, imin], index=df_start_times.columns ), ignore_index=True)\n",
    "        except ValueError:\n",
    "            print('No data found for')\n",
    "            # there is no data\n",
    "            print('node_id: ' + str(n) + ' , strip_id: ' + str(s))"
   ]
  },
  {
   "cell_type": "code",
   "execution_count": null,
   "metadata": {},
   "outputs": [],
   "source": [
    "#add column for the previous timestamp, since the recordings are (roughly)\n",
    "# linear spaced between the current and the previous timestamp\n",
    "df_data['previous_timestamp'] = np.NaN\n",
    "for n in nodes:\n",
    "    for s in strips:\n",
    "        df_tmp = df_data[(df_data['node_id'] == n) & (df_data['strip_id'] == s)]['timestamp']\n",
    "        for i in range(1,len(df_tmp)):\n",
    "            df_data.loc[df_tmp.index[i], 'previous_timestamp'] = pd.to_datetime(df_tmp[df_tmp.index[i-1]])"
   ]
  },
  {
   "cell_type": "code",
   "execution_count": null,
   "metadata": {},
   "outputs": [],
   "source": [
    "df_data = df_data.dropna()\n",
    "df_data = df_data.reset_index(drop = True)"
   ]
  },
  {
   "cell_type": "code",
   "execution_count": null,
   "metadata": {},
   "outputs": [],
   "source": [
    "col = ['node_id', 'strip_id', 'timestamp','ax','ay', 'az','gx','gy','gz','mx','my','mz']\n",
    "Data = pd.DataFrame(columns = col)"
   ]
  },
  {
   "cell_type": "code",
   "execution_count": null,
   "metadata": {},
   "outputs": [],
   "source": [
    "# Core of this file\n",
    "# adds for each list of datareadings a new row\n",
    "\n",
    "number_of_elements = len(df_data['data'])\n",
    "\n",
    "for i in range(len(df_data['data'])):\n",
    "    for j in range(len(df_data['data'][i])):\n",
    "        delta_time = (df_data.iloc[i]['timestamp'] - df_data.iloc[i]['previous_timestamp'])/len(df_data['data'][i])\n",
    "        time_interpolated = df_data.iloc[i]['previous_timestamp'] + j*delta_time\n",
    "        n = df_data.iloc[i]['node_id']\n",
    "        s = df_data.iloc[i]['strip_id']\n",
    "        ax = df_data['data'][i][j]['a'][0]\n",
    "        ay = df_data['data'][i][j]['a'][1]\n",
    "        az = df_data['data'][i][j]['a'][2]\n",
    "        gx = df_data['data'][i][j]['g'][0]\n",
    "        gy = df_data['data'][i][j]['g'][1]\n",
    "        gz = df_data['data'][i][j]['g'][2]\n",
    "        mx = df_data['data'][i][j]['m'][0]\n",
    "        my = df_data['data'][i][j]['m'][1]\n",
    "        mz = df_data['data'][i][j]['m'][2]\n",
    "        #Data = Data.append(pd.Series([n, s, time_interpolated, ax,ay,az,gx,gy,gz,mx,my,mz], index=Data.columns ), ignore_index=True)\n",
    "        Data = pd.concat([Data,pd.DataFrame([[n, s, time_interpolated, ax,ay,az,gx,gy,gz,mx,my,mz]], columns = col)])\n",
    "        update_progress(i / number_of_elements)\n",
    "update_progress(1)"
   ]
  },
  {
   "cell_type": "code",
   "execution_count": null,
   "metadata": {},
   "outputs": [],
   "source": [
    "Data = Data.sort_values(by = 'timestamp')\n",
    "Data = Data.reset_index(drop = True)"
   ]
  },
  {
   "cell_type": "code",
   "execution_count": null,
   "metadata": {},
   "outputs": [],
   "source": [
    "# Now add vicon position\n",
    "df_vicon['posX'] = np.NaN\n",
    "df_vicon['posY'] = np.NaN\n",
    "df_vicon['posZ'] = np.NaN\n",
    "for i in range(len(df_vicon)):\n",
    "    df_vicon.loc[i,'posX'] = df_vicon['translation'][i][0]\n",
    "    df_vicon.loc[i,'posY'] = df_vicon['translation'][i][1]\n",
    "    df_vicon.loc[i,'posZ'] = df_vicon['translation'][i][2]\n",
    "\n",
    "Data['posX'] = np.NaN\n",
    "Data['posY'] = np.NaN\n",
    "Data['posZ'] = np.NaN\n",
    "for i in range(len(Data)):\n",
    "    try:\n",
    "        #find previous timestamp in vicon data, add corresponding position to data\n",
    "        j =  bisect.bisect_right(df_vicon['timestamp'],Data['timestamp'][i])\n",
    "        Data.loc[i,'posX'] = df_vicon['posX'][j]\n",
    "        Data.loc[i,'posY'] = df_vicon['posY'][j]\n",
    "        Data.loc[i,'posZ'] = df_vicon['posZ'][j]\n",
    "        update_progress(i / len(Data))\n",
    "    except Exception as exception:\n",
    "        print('DebugInfo: An error occured!')\n",
    "        print('Errorname: ' + str(exception))\n",
    "        print('Most likely the vicon data is too short.')\n",
    "update_progress(1)"
   ]
  },
  {
   "cell_type": "code",
   "execution_count": null,
   "metadata": {},
   "outputs": [],
   "source": [
    "# Save Dataframe to csv\n",
    "Data.to_csv(sm + '_processed'+'.csv')"
   ]
  },
  {
   "cell_type": "code",
   "execution_count": null,
   "metadata": {},
   "outputs": [],
   "source": []
  }
 ],
 "metadata": {
  "@webio": {
   "lastCommId": null,
   "lastKernelId": null
  },
  "kernelspec": {
   "display_name": "Python 3",
   "language": "python",
   "name": "python3"
  },
  "language_info": {
   "codemirror_mode": {
    "name": "ipython",
    "version": 3
   },
   "file_extension": ".py",
   "mimetype": "text/x-python",
   "name": "python",
   "nbconvert_exporter": "python",
   "pygments_lexer": "ipython3",
   "version": "3.7.4"
  }
 },
 "nbformat": 4,
 "nbformat_minor": 2
}
